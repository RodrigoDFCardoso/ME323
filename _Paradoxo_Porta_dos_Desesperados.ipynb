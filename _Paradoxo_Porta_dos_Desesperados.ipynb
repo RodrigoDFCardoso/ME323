{
 "cells": [
  {
   "cell_type": "code",
   "execution_count": 30,
   "metadata": {
    "scrolled": true
   },
   "outputs": [
    {
     "data": {
      "image/png": "[encoded data removed]",
      "text/plain": [
       "<Figure size 432x288 with 1 Axes>"
      ]
     },
     "metadata": {
      "needs_background": "light"
     },
     "output_type": "display_data"
    }
   ],
   "source": [
    "import random\n",
    "\n",
    "from matplotlib import pyplot as plt\n",
    "\n",
    "v = 0\n",
    "\n",
    "r = 0\n",
    "\n",
    "i = 0\n",
    "\n",
    "x = []\n",
    "\n",
    "y = []\n",
    "\n",
    "while i <= 1000:\n",
    "\n",
    "    r += 1\n",
    "    \n",
    "    portas = ['monstro1', 'monstro2', 'prêmio']\n",
    "\n",
    "    na = [0, 1, 2]\n",
    "\n",
    "    nb = [0, 1]\n",
    "\n",
    "    n1 = random.choice(na)\n",
    "\n",
    "    escolha1 = portas[n1]\n",
    "    \n",
    "    pergunta = ['S', 'N']\n",
    "    \n",
    "    n2 = random.choice(nb)\n",
    "    \n",
    "    escolha2 = pergunta[n2]\n",
    "    \n",
    "    if escolha1 == 'prêmio':\n",
    "\n",
    "        a = random.choice(nb)\n",
    "        portas.remove(portas[a])\n",
    "\n",
    "\n",
    "    elif escolha1 == 'monstro1':\n",
    "\n",
    "        portas.remove(portas[1])\n",
    "\n",
    "    else:\n",
    "\n",
    "        portas.remove(portas[0])\n",
    "        \n",
    "    if escolha2 == 'S':\n",
    "        if escolha1 == 'prêmio':\n",
    "            escolha1 = portas[0]\n",
    "        else:\n",
    "            escolha1 = portas[1]\n",
    "    \n",
    "    if escolha1 == 'prêmio':\n",
    "        v += 1\n",
    "    \n",
    "    p = v / r\n",
    "    \n",
    "    x.append(r)\n",
    "    y.append(p)\n",
    "    \n",
    "    i += 1\n",
    "    \n",
    "plt.plot(x,y)\n",
    "plt.title('teste2')\n",
    "plt.ylabel('some numbers')\n",
    "plt.xlabel('teste')\n",
    "plt.show()\n",
    "\n",
    "# print(pontos)"
   ]
  },
  {
   "cell_type": "code",
   "execution_count": null,
   "metadata": {},
   "outputs": [],
   "source": []
  },
  {
   "cell_type": "code",
   "execution_count": null,
   "metadata": {},
   "outputs": [],
   "source": []
  }
 ],
 "metadata": {
  "kernelspec": {
   "display_name": "Python 3",
   "language": "python",
   "name": "python3"
  },
  "language_info": {
   "codemirror_mode": {
    "name": "ipython",
    "version": 3
   },
   "file_extension": ".py",
   "mimetype": "text/x-python",
   "name": "python",
   "nbconvert_exporter": "python",
   "pygments_lexer": "ipython3",
   "version": "3.7.1"
  }
 },
 "nbformat": 4,
 "nbformat_minor": 2
}
